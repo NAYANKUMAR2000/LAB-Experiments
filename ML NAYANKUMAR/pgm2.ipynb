{
 "cells": [
  {
   "cell_type": "code",
   "execution_count": 2,
   "metadata": {},
   "outputs": [
    {
     "name": "stdout",
     "output_type": "stream",
     "text": [
      "    Day   Outlook Temperature Humidity    Wind Play?\n",
      "0    D1     Sunny         Hot     High    Weak    No\n",
      "1    D2     Sunny         Hot     High  Strong    No\n",
      "2    D3  Overcast         Hot     High    Weak   Yes\n",
      "3    D4      Rain        Mild     High    Weak   Yes\n",
      "4    D5      Rain        Cool   Normal    Weak   Yes\n",
      "5    D6      Rain        Cool   Normal  Strong    No\n",
      "6    D7  Overcast        Cool   Normal  Strong   Yes\n",
      "7    D8     Sunny        Mild     High    Weak    No\n",
      "8    D9     Sunny        Cool   Normal    Weak   Yes\n",
      "9   D10      Rain        Mild   Normal    Weak   Yes\n",
      "10  D11     Sunny        Mild   Normal  Strong   Yes\n",
      "11  D12  Overcast        Mild     High  Strong   Yes\n",
      "12  D13  Overcast         Hot   Normal    Weak   Yes\n",
      "13  D14      Rain        Mild     High  Strong    No\n"
     ]
    }
   ],
   "source": [
    "import pandas as pd\n",
    "df = pd.read_csv('dataset.csv')\n",
    "print(df)"
   ]
  },
  {
   "cell_type": "code",
   "execution_count": 1,
   "metadata": {},
   "outputs": [
    {
     "name": "stdout",
     "output_type": "stream",
     "text": [
      "['Day', 'Outlook', 'Temperature', 'Humidity', 'Wind', 'Play?']\n",
      "[['D1', 'Sunny', 'Hot', 'High', 'Weak', 'No'], ['D2', 'Sunny', 'Hot', 'High', 'Strong', 'No'], ['D3', 'Overcast', 'Hot', 'High', 'Weak', 'Yes'], ['D4', 'Rain', 'Mild', 'High', 'Weak', 'Yes'], ['D5', 'Rain', 'Cool', 'Normal', 'Weak', 'Yes'], ['D6', 'Rain', 'Cool', 'Normal', 'Strong', 'No'], ['D7', 'Overcast', 'Cool', 'Normal', 'Strong', 'Yes'], ['D8', 'Sunny', 'Mild', 'High', 'Weak', 'No'], ['D9', 'Sunny', 'Cool', 'Normal', 'Weak', 'Yes'], ['D10', 'Rain', 'Mild', 'Normal', 'Weak', 'Yes'], ['D11', 'Sunny', 'Mild', 'Normal', 'Strong', 'Yes'], ['D12', 'Overcast', 'Mild', 'High', 'Strong', 'Yes'], ['D13', 'Overcast', 'Hot', 'Normal', 'Weak', 'Yes'], ['D14', 'Rain', 'Mild', 'High', 'Strong', 'No']]\n"
     ]
    }
   ],
   "source": [
    "import csv\n",
    "file = open(\"dataset.csv\")\n",
    "csvreader = csv.reader(file)\n",
    "header = next(csvreader)\n",
    "print(header)\n",
    "rows = []\n",
    "for row in csvreader:\n",
    "    rows.append(row)\n",
    "print(rows)\n",
    "file.close()"
   ]
  },
  {
   "cell_type": "code",
   "execution_count": 6,
   "metadata": {},
   "outputs": [
    {
     "name": "stdout",
     "output_type": "stream",
     "text": [
      "['Day', 'Outlook', 'Temperature', 'Humidity', 'Wind', 'Play?']\n"
     ]
    }
   ],
   "source": [
    "import csv\n",
    "rows = []\n",
    "with open(\"dataset.csv\", 'r') as file:\n",
    "    csvreader = csv.reader(file)\n",
    "    header = next(csvreader)\n",
    "    for row in csvreader:\n",
    "        rows.append(row)\n",
    "print(header)\n"
   ]
  },
  {
   "cell_type": "code",
   "execution_count": 5,
   "metadata": {},
   "outputs": [
    {
     "name": "stdout",
     "output_type": "stream",
     "text": [
      "['Day,Outlook,Temperature,Humidity,Wind,Play?\\n']\n",
      "['D1,Sunny,Hot,High,Weak,No\\n', 'D2,Sunny,Hot,High,Strong,No\\n', 'D3,Overcast,Hot,High,Weak,Yes\\n', 'D4,Rain,Mild,High,Weak,Yes\\n', 'D5,Rain,Cool,Normal,Weak,Yes\\n', 'D6,Rain,Cool,Normal,Strong,No\\n', 'D7,Overcast,Cool,Normal,Strong,Yes\\n', 'D8,Sunny,Mild,High,Weak,No\\n', 'D9,Sunny,Cool,Normal,Weak,Yes\\n', 'D10,Rain,Mild,Normal,Weak,Yes\\n', 'D11,Sunny,Mild,Normal,Strong,Yes\\n', 'D12,Overcast,Mild,High,Strong,Yes\\n', 'D13,Overcast,Hot,Normal,Weak,Yes\\n', 'D14,Rain,Mild,High,Strong,No\\n']\n"
     ]
    }
   ],
   "source": [
    "with open('dataset.csv') as file:\n",
    "    content = file.readlines()\n",
    "header = content[:1]\n",
    "rows = content[1:]\n",
    "print(header)\n",
    "print(rows)"
   ]
  },
  {
   "cell_type": "code",
   "execution_count": null,
   "metadata": {},
   "outputs": [],
   "source": []
  }
 ],
 "metadata": {
  "kernelspec": {
   "display_name": "Python 3",
   "language": "python",
   "name": "python3"
  },
  "language_info": {
   "codemirror_mode": {
    "name": "ipython",
    "version": 3
   },
   "file_extension": ".py",
   "mimetype": "text/x-python",
   "name": "python",
   "nbconvert_exporter": "python",
   "pygments_lexer": "ipython3",
   "version": "3.6.5"
  }
 },
 "nbformat": 4,
 "nbformat_minor": 2
}
